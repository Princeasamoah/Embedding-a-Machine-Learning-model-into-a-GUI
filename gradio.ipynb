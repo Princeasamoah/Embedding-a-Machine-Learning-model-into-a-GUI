{
 "cells": [
  {
   "cell_type": "code",
   "execution_count": null,
   "id": "3d1ad7b4",
   "metadata": {},
   "outputs": [],
   "source": [
    "import greadio as gr\n",
    "from joblib import dump,load\n",
    "#export model\n",
    "dump(model,'model.plk')\n",
    "\n",
    "#load model\n",
    "classifier=load('...dir')"
   ]
  },
  {
   "cell_type": "code",
   "execution_count": null,
   "id": "c91ee3c8",
   "metadata": {},
   "outputs": [],
   "source": [
    "def classify(num):\n",
    "    if num ==0:\n",
    "        return 'Customer will not churn'\n",
    "    else:\n",
    "        return 'Customer will churn'\n"
   ]
  },
  {
   "cell_type": "code",
   "execution_count": null,
   "id": "8655eac7",
   "metadata": {},
   "outputs": [],
   "source": [
    "def predict_chuurn(SeniorCitizen,Partner,Dependants,tenure,\n",
    "                   InternetServices,OnlineSecurity,OnlineBackups,\n",
    "                  DeviceProtection,TechSupport,StreamingTV,StreamingMovies,\n",
    "                  Contract,PaperlessBilling,PaymentMethod,MonthlyCharges,TotalCharges):\n",
    "    input_data=[\n",
    "        SeniorCitizen,Partner,Dependants,tenure,InternetServices,OnlineSecurity,OnlineBackups,\n",
    "        DeviceProtection,TechSupport,StreamingTV,StreamingMovies,Contract,PaperlessBilling,\n",
    "        PaymentMethod,MonthlyCharges,TotalCharges\n",
    "    ]\n",
    "    input_df=pd.DataFram([input_data],columns=[\n",
    "        'SeniorCitizen','Partner,Dependants','tenure','InternetServices','OnlineSecurity','OnlineBackups',\n",
    "        'DeviceProtection','TecthSuptttport','StreamingTV','StreamingMovies','Contract','PaperlessBilling',\n",
    "        'PaymentMethod','MonthlyCharges','TotalCharges'\n",
    "    ])\n",
    "    pred=classifier.predict(input_df)\n",
    "    output =classify(pred[0])\n",
    "    \n",
    "    if output== 'Customer will not churn':\n",
    "        return[(0,output)]\n",
    "    else:\n",
    "        return[(1,output)]\n",
    "    \n",
    "    \n",
    "output=gr.outputs.HighlightedText(color_map={\n",
    "    'Cutomer will not Churn':'green'\n",
    "    'Customer will Churn':'red'\n",
    "})\n",
    "\n"
   ]
  },
  {
   "cell_type": "code",
   "execution_count": null,
   "id": "44f1669f",
   "metadata": {},
   "outputs": [],
   "source": [
    "iface=gr.Interface(title=\"Churn\")"
   ]
  },
  {
   "cell_type": "code",
   "execution_count": null,
   "id": "0c094935",
   "metadata": {},
   "outputs": [],
   "source": [
    "iface=g.Interface(title= \"Customer Churn Prediction For Vodafone PLC\", fn-predict churn,\n",
    "                  inputs= [\n",
    "                    gr.inputs.Slider (minimum=8, maximum= 1, step=1, label=\"SeniorCitizen: Select 1 for Yes and 8 for No\"),\n",
    "                    gr.inputs.Dropdown([\"Yes\", \"No\"], label=\"Partner: Do You Have a Partner?\"),\n",
    "                    gr.inputs.Dropdown([\"Yes\", \"No\"], label=\"Dependents: Do You Have a Dependent?\"),\n",
    "                    gr.inputs. Number (label=\"tenure: How Long Have You Been with Vodafone in Months?\"),\n",
    "                    gr. inputs.Dropdown([\"DSL\", \"Fiber optic\", \"No\"], label=\"InternetService\"),\n",
    "                    gr.inputs.Dropdown([\"Yes\", \"No\", \"No Internet service\"], label=\"OnlineSecurity\"),\n",
    "                    gr.inputs.Dropdown([\"Yes\", \"No\", \"No internet service\"], label=\"OnlineBackup\"),\n",
    "                    gr.inputs.Dropdown([\"Yes\", \"No\", \"No internet service\"], label=\"DeviceProtection\"),\n",
    "                    gr.inputs.Dropdown([\"Yes\", \"No\", \"No internet service\"], label=\"TechSupport\"),\n",
    "                    gr.inputs.Dropdown([\"Yes\", \"No\", \"No internet service\"], label=\"streamingTV\"),\n",
    "                    gr.Inputs.Dropdown([\"Yes\", \"No\", \"No Internet service\"], label=\"StreamingHovles\"),\n",
    "                    gr.inputs.Dropdown([\"Month-to-month\", \"One year\", \"Two year\"], label=\"Contract\"),\n",
    "                    gr.inputs.Dropdown([\"Yes\", \"No\"], label=\"PaperlessBilling\"), \n",
    "                    gr.inputs.Dropdown([ \"Electronic check\", \"Mailed check\", \"Bank transfer (automatic)\", \"Credit card (automatic)\"], label-\"PaymentMethod\"),\n",
    "                    gr.inputs.Number (label=\"MonthlyCharges\"),\n",
    "                    gr.inputs.Number(label=\"TotalCharges\")\n",
    "                                       ],outputs=output, theme \"freddyaboulton/dracula revamped\")\n",
    "\n",
    "iface.lunch(share=True)\n",
    "                                        "
   ]
  }
 ],
 "metadata": {
  "kernelspec": {
   "display_name": "Python 3 (ipykernel)",
   "language": "python",
   "name": "python3"
  },
  "language_info": {
   "codemirror_mode": {
    "name": "ipython",
    "version": 3
   },
   "file_extension": ".py",
   "mimetype": "text/x-python",
   "name": "python",
   "nbconvert_exporter": "python",
   "pygments_lexer": "ipython3",
   "version": "3.10.7"
  }
 },
 "nbformat": 4,
 "nbformat_minor": 5
}
